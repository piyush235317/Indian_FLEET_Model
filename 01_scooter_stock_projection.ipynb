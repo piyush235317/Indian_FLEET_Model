{
 "cells": [
  {
   "cell_type": "code",
   "execution_count": 1,
   "id": "57b31b1a",
   "metadata": {},
   "outputs": [],
   "source": [
    "import numpy as np\n",
    "import pandas as pd\n",
    "import matplotlib.pyplot as plt\n",
    "from scipy.stats import  fisk\n",
    "from sklearn.linear_model import LinearRegression\n",
    "from sklearn.metrics import  r2_score\n",
    "from scipy import integrate"
   ]
  },
  {
   "cell_type": "code",
   "execution_count": 3,
   "id": "cd3c68c8",
   "metadata": {},
   "outputs": [],
   "source": [
    "df_population = pd.read_csv('population.csv')\n",
    "df_population.set_index('year', inplace=True)\n",
    "df_population = df_population.astype(float)\n",
    "\n",
    "df_car_stock = pd.read_csv('stock_scooter.csv')\n",
    "df_car_stock.set_index('year', inplace=True)\n",
    "df_car_stock['total'] = df_car_stock.sum(axis=1)\n",
    "df_car_stock = df_car_stock.astype(float)\n",
    "\n",
    "df_params_gompertz = pd.read_csv('bootstrap_params.csv')\n",
    "df_params_gompertz.set_index('index', inplace=True)"
   ]
  },
  {
   "cell_type": "code",
   "execution_count": null,
   "id": "0486505e",
   "metadata": {},
   "outputs": [],
   "source": [
    "list_percentiles = [2.5, 50, 97.5]\n",
    "pred_stock_total = {}\n",
    "\n",
    "params_log = {}\n",
    "for percentile in list_percentiles:\n",
    "    df_params_log = pd.read_csv('pars_incomeDistribution_' + str(percentile) + '.csv')\n",
    "    df_params_log.set_index('year', inplace=True)\n",
    "    params_log[percentile] = {k: v for k, v in zip(df_params_log.index, df_params_log.values)}\n",
    "\n",
    "def r_gompertz_function(x, a, b, r):\n",
    "    return r * (np.exp(a * (np.exp(b * x))))\n",
    "\n",
    "\n",
    "def log_logistic_distribution(x, a, b):\n",
    "    return fisk.pdf(x, b, 0, a)\n",
    "\n",
    "\n",
    "def car_stock(x, a, b, alpha, beta, r):\n",
    "    return log_logistic_distribution(x, a, b) * r_gompertz_function(x, alpha, beta, r)\n",
    "\n",
    "\n",
    "year_earliest = df_params_log.index[0]\n",
    "year_start = df_car_stock.index[-1]\n",
    "year_end = 2050"
   ]
  }
 ],
 "metadata": {
  "kernelspec": {
   "display_name": "Python 3 (ipykernel)",
   "language": "python",
   "name": "python3"
  },
  "language_info": {
   "codemirror_mode": {
    "name": "ipython",
    "version": 3
   },
   "file_extension": ".py",
   "mimetype": "text/x-python",
   "name": "python",
   "nbconvert_exporter": "python",
   "pygments_lexer": "ipython3",
   "version": "3.9.13"
  }
 },
 "nbformat": 4,
 "nbformat_minor": 5
}
