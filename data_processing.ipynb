{
 "cells": [
  {
   "cell_type": "markdown",
   "id": "adeaaffa",
   "metadata": {},
   "source": [
    "# Data Preprocessing"
   ]
  },
  {
   "cell_type": "code",
   "execution_count": 10,
   "id": "85c9f639",
   "metadata": {},
   "outputs": [],
   "source": [
    "import numpy as np\n",
    "import pandas as pd\n",
    "import matplotlib.pyplot as plt\n",
    "from scipy.stats import  fisk"
   ]
  },
  {
   "cell_type": "code",
   "execution_count": 11,
   "id": "99eac235",
   "metadata": {},
   "outputs": [],
   "source": [
    "income_data = pd.read_stata(\"income_survey.dta\")\n",
    "income_data = pd.DataFrame(income_data)\n",
    "vehicle_data = pd.read_stata(\"vehicle_survey.dta\")\n",
    "vehicle_data = pd.DataFrame(vehicle_data)"
   ]
  },
  {
   "cell_type": "markdown",
   "id": "05a36521",
   "metadata": {},
   "source": [
    ".........."
   ]
  },
  {
   "cell_type": "markdown",
   "id": "896f44f6",
   "metadata": {},
   "source": [
    "Income Data"
   ]
  },
  {
   "cell_type": "markdown",
   "id": "c6b8e282",
   "metadata": {},
   "source": [
    ".........."
   ]
  },
  {
   "cell_type": "code",
   "execution_count": 12,
   "id": "d164f9a1",
   "metadata": {},
   "outputs": [],
   "source": [
    "income = income_data.iloc[:, [0, 16, 39]].copy()\n",
    "income = income[income['TOTAL_INCOME'] != -99]\n",
    "\n",
    "# Obtain unique household IDs and count occurrences\n",
    "unique_hh_ids = income['HH_ID'].unique()\n",
    "repetition_count = income['HH_ID'].value_counts()\n",
    "\n",
    "# Calculate total income sum and household size\n",
    "total_income_sum = income.groupby('HH_ID')['TOTAL_INCOME'].sum()\n",
    "hh_size = income.groupby('HH_ID')['TOTAL_MEM_IN_HH'].sum()\n",
    "\n",
    "income_df = pd.DataFrame({\n",
    "    'id': unique_hh_ids,\n",
    "    'occurrence_count': repetition_count,\n",
    "    'Total Income Sum': total_income_sum,\n",
    "    'household_size': hh_size\n",
    "})\n",
    "\n",
    "income_df['per_capita_income'] = (income_df['Total Income Sum'] * 12) / income_df['household_size']\n",
    "income_df['household_size'] = income_df['household_size'] / income_df['occurrence_count']\n",
    "\n",
    "# Save the modified DataFrame to a CSV file\n",
    "income_df = income_df[['id', 'per_capita_income','household_size']]\n",
    "income_df.to_csv('output_1.csv', index=True)"
   ]
  },
  {
   "cell_type": "markdown",
   "id": "745f8c5f",
   "metadata": {},
   "source": [
    ".........."
   ]
  },
  {
   "cell_type": "markdown",
   "id": "8b3efa6b",
   "metadata": {},
   "source": [
    "Car Stock Data"
   ]
  },
  {
   "cell_type": "markdown",
   "id": "942301ba",
   "metadata": {},
   "source": [
    ".........."
   ]
  },
  {
   "cell_type": "code",
   "execution_count": 16,
   "id": "af6c83c1",
   "metadata": {},
   "outputs": [],
   "source": [
    "four_wheeler = vehicle_data.iloc[:, [0, 22, 23]].copy()\n",
    "\n",
    "unique_hh_ids = four_wheeler['HH_ID'].unique()\n",
    "repetition_count = four_wheeler['HH_ID'].value_counts()\n",
    "total_scooter_count = four_wheeler.groupby('HH_ID')['NO_OF_UNITS_OWNED_AS_OF_NOW_AS_9'].sum()\n",
    "total_car_count = four_wheeler.groupby('HH_ID')['NO_OF_UNITS_OWNED_AS_OF_NOW_AS_8'].sum()\n",
    "\n",
    "four_wheeler_df = pd.DataFrame({\n",
    "    'id': unique_hh_ids,\n",
    "    'total_car_count': total_car_count,\n",
    "    'total_scooter_count': total_scooter_count,\n",
    "    'occurrence_count': repetition_count\n",
    "})\n",
    "\n",
    "four_wheeler_df.loc[four_wheeler_df['total_scooter_count'] > 0, 'total_car_count'] = 0\n",
    "\n",
    "# Save the modified DataFrame to a CSV file\n",
    "four_wheeler_df.to_csv('output_3.csv', index=True)"
   ]
  },
  {
   "cell_type": "markdown",
   "id": "0163271c",
   "metadata": {},
   "source": [
    ".........."
   ]
  },
  {
   "cell_type": "markdown",
   "id": "72b76449",
   "metadata": {},
   "source": [
    "Scooter Stock Data"
   ]
  },
  {
   "cell_type": "markdown",
   "id": "c0c1b434",
   "metadata": {},
   "source": [
    ".........."
   ]
  },
  {
   "cell_type": "code",
   "execution_count": 18,
   "id": "cabe4bdd",
   "metadata": {},
   "outputs": [],
   "source": [
    "two_wheeler = vehicle_data.iloc[:, [0, 22, 23]].copy()\n",
    "\n",
    "unique_hh_ids = two_wheeler['HH_ID'].unique()\n",
    "repetition_count = two_wheeler['HH_ID'].value_counts()\n",
    "total_scooter_count = two_wheeler.groupby('HH_ID')['NO_OF_UNITS_OWNED_AS_OF_NOW_AS_9'].sum()\n",
    "total_car_count = two_wheeler.groupby('HH_ID')['NO_OF_UNITS_OWNED_AS_OF_NOW_AS_8'].sum()\n",
    "\n",
    "two_wheeler_df = pd.DataFrame({\n",
    "    'id': unique_hh_ids,\n",
    "    'total_car_count': total_car_count,\n",
    "    'total_scooter_count': total_scooter_count,\n",
    "    'occurrence_count': repetition_count\n",
    "})\n",
    "\n",
    "two_wheeler_df.loc[two_wheeler_df['total_car_count'] > 0, 'total_scooter_count'] = 0\n",
    "\n",
    "# Save the modified DataFrame to a CSV file\n",
    "two_wheeler_df.to_csv('output_2.csv', index=True)"
   ]
  }
 ],
 "metadata": {
  "kernelspec": {
   "display_name": "Python 3 (ipykernel)",
   "language": "python",
   "name": "python3"
  },
  "language_info": {
   "codemirror_mode": {
    "name": "ipython",
    "version": 3
   },
   "file_extension": ".py",
   "mimetype": "text/x-python",
   "name": "python",
   "nbconvert_exporter": "python",
   "pygments_lexer": "ipython3",
   "version": "3.9.13"
  }
 },
 "nbformat": 4,
 "nbformat_minor": 5
}
